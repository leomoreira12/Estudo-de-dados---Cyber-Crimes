{
 "cells": [
  {
   "cell_type": "markdown",
   "metadata": {},
   "source": [
    "# Data Analysis - Crimes Cibernéticos relacionados a área da saúde"
   ]
  },
  {
   "cell_type": "markdown",
   "metadata": {},
   "source": [
    "#### Feito por: Leonardo Ferreira Moreira e Thales Correard Motta"
   ]
  },
  {
   "cell_type": "code",
   "execution_count": 2,
   "metadata": {},
   "outputs": [],
   "source": [
    "import pandas as pd\n",
    "import matplotlib.pyplot as plt\n",
    "low_memory=False\n",
    "%matplotlib inline\n",
    "pd.options.display.max_columns = 80\n",
    "pd.options.display.max_rows = 90"
   ]
  },
  {
   "cell_type": "code",
   "execution_count": 3,
   "metadata": {},
   "outputs": [
    {
     "data": {
      "text/html": [
       "<div>\n",
       "<style scoped>\n",
       "    .dataframe tbody tr th:only-of-type {\n",
       "        vertical-align: middle;\n",
       "    }\n",
       "\n",
       "    .dataframe tbody tr th {\n",
       "        vertical-align: top;\n",
       "    }\n",
       "\n",
       "    .dataframe thead th {\n",
       "        text-align: right;\n",
       "    }\n",
       "</style>\n",
       "<table border=\"1\" class=\"dataframe\">\n",
       "  <thead>\n",
       "    <tr style=\"text-align: right;\">\n",
       "      <th></th>\n",
       "      <th>Name of Covered Entity</th>\n",
       "      <th>State</th>\n",
       "      <th>Covered Entity Type</th>\n",
       "      <th>Individuals Affected</th>\n",
       "      <th>Breach Submission Date</th>\n",
       "      <th>Type of Breach</th>\n",
       "      <th>Location of Breached Information</th>\n",
       "      <th>Business Associate Present</th>\n",
       "      <th>Web Description</th>\n",
       "    </tr>\n",
       "  </thead>\n",
       "  <tbody>\n",
       "    <tr>\n",
       "      <th>0</th>\n",
       "      <td>Brooke Army Medical Center</td>\n",
       "      <td>TX</td>\n",
       "      <td>Healthcare Provider</td>\n",
       "      <td>1000.0</td>\n",
       "      <td>10/21/09</td>\n",
       "      <td>Theft</td>\n",
       "      <td>Paper/Films</td>\n",
       "      <td>No</td>\n",
       "      <td>A binder containing the protected health infor...</td>\n",
       "    </tr>\n",
       "    <tr>\n",
       "      <th>1</th>\n",
       "      <td>Mid America Kidney Stone Association, LLC</td>\n",
       "      <td>MO</td>\n",
       "      <td>Healthcare Provider</td>\n",
       "      <td>1000.0</td>\n",
       "      <td>10/28/09</td>\n",
       "      <td>Theft</td>\n",
       "      <td>Network Server</td>\n",
       "      <td>No</td>\n",
       "      <td>Five desktop computers containing unencrypted ...</td>\n",
       "    </tr>\n",
       "    <tr>\n",
       "      <th>2</th>\n",
       "      <td>Alaska Department of Health and Social Services</td>\n",
       "      <td>AK</td>\n",
       "      <td>Healthcare Provider</td>\n",
       "      <td>501.0</td>\n",
       "      <td>10/30/09</td>\n",
       "      <td>Theft</td>\n",
       "      <td>Other, Other Portable Electronic Device</td>\n",
       "      <td>No</td>\n",
       "      <td>\\N</td>\n",
       "    </tr>\n",
       "    <tr>\n",
       "      <th>3</th>\n",
       "      <td>Health Services for Children with Special Need...</td>\n",
       "      <td>DC</td>\n",
       "      <td>Health Plan</td>\n",
       "      <td>3800.0</td>\n",
       "      <td>11/17/09</td>\n",
       "      <td>Loss</td>\n",
       "      <td>Laptop</td>\n",
       "      <td>No</td>\n",
       "      <td>A laptop was lost by an employee while in tran...</td>\n",
       "    </tr>\n",
       "    <tr>\n",
       "      <th>4</th>\n",
       "      <td>Mark D. Lurie, MD</td>\n",
       "      <td>CA</td>\n",
       "      <td>Healthcare Provider</td>\n",
       "      <td>5166.0</td>\n",
       "      <td>11/20/09</td>\n",
       "      <td>Theft</td>\n",
       "      <td>Desktop Computer</td>\n",
       "      <td>No</td>\n",
       "      <td>A shared Computer that was used for backup was...</td>\n",
       "    </tr>\n",
       "  </tbody>\n",
       "</table>\n",
       "</div>"
      ],
      "text/plain": [
       "                              Name of Covered Entity State  \\\n",
       "0                         Brooke Army Medical Center    TX   \n",
       "1          Mid America Kidney Stone Association, LLC    MO   \n",
       "2    Alaska Department of Health and Social Services    AK   \n",
       "3  Health Services for Children with Special Need...    DC   \n",
       "4                                  Mark D. Lurie, MD    CA   \n",
       "\n",
       "   Covered Entity Type  Individuals Affected Breach Submission Date  \\\n",
       "0  Healthcare Provider                1000.0               10/21/09   \n",
       "1  Healthcare Provider                1000.0               10/28/09   \n",
       "2  Healthcare Provider                 501.0               10/30/09   \n",
       "3          Health Plan                3800.0               11/17/09   \n",
       "4  Healthcare Provider                5166.0               11/20/09   \n",
       "\n",
       "  Type of Breach         Location of Breached Information  \\\n",
       "0          Theft                              Paper/Films   \n",
       "1          Theft                           Network Server   \n",
       "2          Theft  Other, Other Portable Electronic Device   \n",
       "3           Loss                                   Laptop   \n",
       "4          Theft                         Desktop Computer   \n",
       "\n",
       "  Business Associate Present  \\\n",
       "0                         No   \n",
       "1                         No   \n",
       "2                         No   \n",
       "3                         No   \n",
       "4                         No   \n",
       "\n",
       "                                     Web Description  \n",
       "0  A binder containing the protected health infor...  \n",
       "1  Five desktop computers containing unencrypted ...  \n",
       "2                                                 \\N  \n",
       "3  A laptop was lost by an employee while in tran...  \n",
       "4  A shared Computer that was used for backup was...  "
      ]
     },
     "execution_count": 3,
     "metadata": {},
     "output_type": "execute_result"
    }
   ],
   "source": [
    "tab = pd.read_csv('./breach_report.csv', low_memory=False, delimiter= ',', encoding = 'ISO-8859-1', decimal = '.')\n",
    "tab.head()"
   ]
  },
  {
   "cell_type": "code",
   "execution_count": 4,
   "metadata": {},
   "outputs": [
    {
     "data": {
      "text/plain": [
       "Index(['Name of Covered Entity', 'State', 'Covered Entity Type',\n",
       "       'Individuals Affected', 'Breach Submission Date', 'Type of Breach',\n",
       "       'Location of Breached Information', 'Business Associate Present',\n",
       "       'Web Description'],\n",
       "      dtype='object')"
      ]
     },
     "execution_count": 4,
     "metadata": {},
     "output_type": "execute_result"
    }
   ],
   "source": [
    "tab.columns"
   ]
  },
  {
   "cell_type": "code",
   "execution_count": 29,
   "metadata": {},
   "outputs": [
    {
     "data": {
      "text/html": [
       "<div>\n",
       "<style scoped>\n",
       "    .dataframe tbody tr th:only-of-type {\n",
       "        vertical-align: middle;\n",
       "    }\n",
       "\n",
       "    .dataframe tbody tr th {\n",
       "        vertical-align: top;\n",
       "    }\n",
       "\n",
       "    .dataframe thead th {\n",
       "        text-align: right;\n",
       "    }\n",
       "</style>\n",
       "<table border=\"1\" class=\"dataframe\">\n",
       "  <thead>\n",
       "    <tr style=\"text-align: right;\">\n",
       "      <th></th>\n",
       "      <th>Individuals Affected</th>\n",
       "    </tr>\n",
       "  </thead>\n",
       "  <tbody>\n",
       "    <tr>\n",
       "      <th>count</th>\n",
       "      <td>1.677000e+03</td>\n",
       "    </tr>\n",
       "    <tr>\n",
       "      <th>mean</th>\n",
       "      <td>1.007082e+05</td>\n",
       "    </tr>\n",
       "    <tr>\n",
       "      <th>std</th>\n",
       "      <td>1.979060e+06</td>\n",
       "    </tr>\n",
       "    <tr>\n",
       "      <th>min</th>\n",
       "      <td>5.000000e+02</td>\n",
       "    </tr>\n",
       "    <tr>\n",
       "      <th>25%</th>\n",
       "      <td>1.000000e+03</td>\n",
       "    </tr>\n",
       "    <tr>\n",
       "      <th>50%</th>\n",
       "      <td>2.300000e+03</td>\n",
       "    </tr>\n",
       "    <tr>\n",
       "      <th>75%</th>\n",
       "      <td>7.526000e+03</td>\n",
       "    </tr>\n",
       "    <tr>\n",
       "      <th>max</th>\n",
       "      <td>7.880000e+07</td>\n",
       "    </tr>\n",
       "  </tbody>\n",
       "</table>\n",
       "</div>"
      ],
      "text/plain": [
       "       Individuals Affected\n",
       "count          1.677000e+03\n",
       "mean           1.007082e+05\n",
       "std            1.979060e+06\n",
       "min            5.000000e+02\n",
       "25%            1.000000e+03\n",
       "50%            2.300000e+03\n",
       "75%            7.526000e+03\n",
       "max            7.880000e+07"
      ]
     },
     "execution_count": 29,
     "metadata": {},
     "output_type": "execute_result"
    }
   ],
   "source": [
    "tab.describe()"
   ]
  },
  {
   "cell_type": "markdown",
   "metadata": {},
   "source": [
    "## Total de indivíduos afetados"
   ]
  },
  {
   "cell_type": "code",
   "execution_count": 30,
   "metadata": {},
   "outputs": [
    {
     "data": {
      "text/plain": [
       "168887690.0"
      ]
     },
     "execution_count": 30,
     "metadata": {},
     "output_type": "execute_result"
    }
   ],
   "source": [
    "tab['Individuals Affected'].sum(skipna = True)"
   ]
  },
  {
   "cell_type": "markdown",
   "metadata": {},
   "source": [
    "## Gráfico referente aos Estados mais afetados"
   ]
  },
  {
   "cell_type": "code",
   "execution_count": 41,
   "metadata": {},
   "outputs": [
    {
     "data": {
      "text/plain": [
       "<matplotlib.axes._subplots.AxesSubplot at 0x5414c30>"
      ]
     },
     "execution_count": 41,
     "metadata": {},
     "output_type": "execute_result"
    },
    {
     "data": {
      "image/png": "[encoded data removed]",
      "text/plain": [
       "<Figure size 720x360 with 1 Axes>"
      ]
     },
     "metadata": {
      "needs_background": "light"
     },
     "output_type": "display_data"
    }
   ],
   "source": [
    "tab.groupby('State').size().sort_values().tail(10).plot(kind='bar', figsize=(10,5))"
   ]
  },
  {
   "cell_type": "markdown",
   "metadata": {},
   "source": [
    "## Gráfico referente aos tipos de entidade com maior taxa de invasão"
   ]
  },
  {
   "cell_type": "code",
   "execution_count": 33,
   "metadata": {},
   "outputs": [
    {
     "data": {
      "image/png": "[encoded data removed]",
      "text/plain": [
       "<Figure size 432x288 with 1 Axes>"
      ]
     },
     "metadata": {},
     "output_type": "display_data"
    }
   ],
   "source": [
    "legendas = 'Healthcare Clearing House', 'Health Plan', 'Business Associate', 'Healthcare Provider'\n",
    "plt.axis('equal')\n",
    "plt.pie(tab['Covered Entity Type'].value_counts().sort_values(), autopct=\"%1.2f%%\", labels = legendas, explode = [0,0.1,0,0.1])     \n",
    "plt.suptitle(\"Tipos de entidade com maior taxa de violação\")\n",
    "\n",
    "plt.show()"
   ]
  },
  {
   "cell_type": "markdown",
   "metadata": {},
   "source": [
    "## Gráfico referente aos locais onde foram retirados as informações"
   ]
  },
  {
   "cell_type": "code",
   "execution_count": 35,
   "metadata": {},
   "outputs": [
    {
     "data": {
      "text/plain": [
       "<matplotlib.axes._subplots.AxesSubplot at 0x55cd250>"
      ]
     },
     "execution_count": 35,
     "metadata": {},
     "output_type": "execute_result"
    },
    {
     "data": {
      "image/png": "[encoded data removed]",
      "text/plain": [
       "<Figure size 720x720 with 1 Axes>"
      ]
     },
     "metadata": {
      "needs_background": "light"
     },
     "output_type": "display_data"
    }
   ],
   "source": [
    "tab.groupby('Location of Breached Information').size().tail(4).sort_values().plot(kind='barh', figsize=(10,10))"
   ]
  },
  {
   "cell_type": "code",
   "execution_count": 38,
   "metadata": {},
   "outputs": [
    {
     "data": {
      "text/plain": [
       "<matplotlib.axes._subplots.AxesSubplot at 0x1258b3d0>"
      ]
     },
     "execution_count": 38,
     "metadata": {},
     "output_type": "execute_result"
    },
    {
     "data": {
      "image/png": "[encoded data removed]",
      "text/plain": [
       "<Figure size 720x720 with 1 Axes>"
      ]
     },
     "metadata": {
      "needs_background": "light"
     },
     "output_type": "display_data"
    }
   ],
   "source": [
    "tab.groupby('Type of Breach').size().tail(4).sort_values().plot(kind='barh', figsize=(10,10))"
   ]
  }
 ],
 "metadata": {
  "kernelspec": {
   "display_name": "Python 3",
   "language": "python",
   "name": "python3"
  },
  "language_info": {
   "codemirror_mode": {
    "name": "ipython",
    "version": 3
   },
   "file_extension": ".py",
   "mimetype": "text/x-python",
   "name": "python",
   "nbconvert_exporter": "python",
   "pygments_lexer": "ipython3",
   "version": "3.7.2"
  }
 },
 "nbformat": 4,
 "nbformat_minor": 2
}
