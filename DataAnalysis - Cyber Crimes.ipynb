{
 "cells": [
  {
   "cell_type": "code",
   "execution_count": null,
   "metadata": {},
   "outputs": [],
   "source": [
    "import pandas as pd\n",
    "import seaborn as sb\n",
    "low_memory=False\n",
    "%matplotlib inline\n",
    "pd.options.display.max_columns = 80\n",
    "pd.options.display.max_rows = 90"
   ]
  },
  {
   "cell_type": "code",
   "execution_count": 4,
   "metadata": {},
   "outputs": [
    {
     "data": {
      "text/html": [
       "<div>\n",
       "<style scoped>\n",
       "    .dataframe tbody tr th:only-of-type {\n",
       "        vertical-align: middle;\n",
       "    }\n",
       "\n",
       "    .dataframe tbody tr th {\n",
       "        vertical-align: top;\n",
       "    }\n",
       "\n",
       "    .dataframe thead th {\n",
       "        text-align: right;\n",
       "    }\n",
       "</style>\n",
       "<table border=\"1\" class=\"dataframe\">\n",
       "  <thead>\n",
       "    <tr style=\"text-align: right;\">\n",
       "      <th></th>\n",
       "      <th>Name of Covered Entity</th>\n",
       "      <th>State</th>\n",
       "      <th>Covered Entity Type</th>\n",
       "      <th>Individuals Affected</th>\n",
       "      <th>Breach Submission Date</th>\n",
       "      <th>Type of Breach</th>\n",
       "      <th>Location of Breached Information</th>\n",
       "      <th>Business Associate Present</th>\n",
       "      <th>Web Description</th>\n",
       "    </tr>\n",
       "  </thead>\n",
       "  <tbody>\n",
       "    <tr>\n",
       "      <th>0</th>\n",
       "      <td>Brooke Army Medical Center</td>\n",
       "      <td>TX</td>\n",
       "      <td>Healthcare Provider</td>\n",
       "      <td>1000.0</td>\n",
       "      <td>10/21/09</td>\n",
       "      <td>Theft</td>\n",
       "      <td>Paper/Films</td>\n",
       "      <td>No</td>\n",
       "      <td>A binder containing the protected health infor...</td>\n",
       "    </tr>\n",
       "    <tr>\n",
       "      <th>1</th>\n",
       "      <td>Mid America Kidney Stone Association, LLC</td>\n",
       "      <td>MO</td>\n",
       "      <td>Healthcare Provider</td>\n",
       "      <td>1000.0</td>\n",
       "      <td>10/28/09</td>\n",
       "      <td>Theft</td>\n",
       "      <td>Network Server</td>\n",
       "      <td>No</td>\n",
       "      <td>Five desktop computers containing unencrypted ...</td>\n",
       "    </tr>\n",
       "    <tr>\n",
       "      <th>2</th>\n",
       "      <td>Alaska Department of Health and Social Services</td>\n",
       "      <td>AK</td>\n",
       "      <td>Healthcare Provider</td>\n",
       "      <td>501.0</td>\n",
       "      <td>10/30/09</td>\n",
       "      <td>Theft</td>\n",
       "      <td>Other, Other Portable Electronic Device</td>\n",
       "      <td>No</td>\n",
       "      <td>\\N</td>\n",
       "    </tr>\n",
       "    <tr>\n",
       "      <th>3</th>\n",
       "      <td>Health Services for Children with Special Need...</td>\n",
       "      <td>DC</td>\n",
       "      <td>Health Plan</td>\n",
       "      <td>3800.0</td>\n",
       "      <td>11/17/09</td>\n",
       "      <td>Loss</td>\n",
       "      <td>Laptop</td>\n",
       "      <td>No</td>\n",
       "      <td>A laptop was lost by an employee while in tran...</td>\n",
       "    </tr>\n",
       "    <tr>\n",
       "      <th>4</th>\n",
       "      <td>Mark D. Lurie, MD</td>\n",
       "      <td>CA</td>\n",
       "      <td>Healthcare Provider</td>\n",
       "      <td>5166.0</td>\n",
       "      <td>11/20/09</td>\n",
       "      <td>Theft</td>\n",
       "      <td>Desktop Computer</td>\n",
       "      <td>No</td>\n",
       "      <td>A shared Computer that was used for backup was...</td>\n",
       "    </tr>\n",
       "  </tbody>\n",
       "</table>\n",
       "</div>"
      ],
      "text/plain": [
       "                              Name of Covered Entity State  \\\n",
       "0                         Brooke Army Medical Center    TX   \n",
       "1          Mid America Kidney Stone Association, LLC    MO   \n",
       "2    Alaska Department of Health and Social Services    AK   \n",
       "3  Health Services for Children with Special Need...    DC   \n",
       "4                                  Mark D. Lurie, MD    CA   \n",
       "\n",
       "   Covered Entity Type  Individuals Affected Breach Submission Date  \\\n",
       "0  Healthcare Provider                1000.0               10/21/09   \n",
       "1  Healthcare Provider                1000.0               10/28/09   \n",
       "2  Healthcare Provider                 501.0               10/30/09   \n",
       "3          Health Plan                3800.0               11/17/09   \n",
       "4  Healthcare Provider                5166.0               11/20/09   \n",
       "\n",
       "  Type of Breach         Location of Breached Information  \\\n",
       "0          Theft                              Paper/Films   \n",
       "1          Theft                           Network Server   \n",
       "2          Theft  Other, Other Portable Electronic Device   \n",
       "3           Loss                                   Laptop   \n",
       "4          Theft                         Desktop Computer   \n",
       "\n",
       "  Business Associate Present  \\\n",
       "0                         No   \n",
       "1                         No   \n",
       "2                         No   \n",
       "3                         No   \n",
       "4                         No   \n",
       "\n",
       "                                     Web Description  \n",
       "0  A binder containing the protected health infor...  \n",
       "1  Five desktop computers containing unencrypted ...  \n",
       "2                                                 \\N  \n",
       "3  A laptop was lost by an employee while in tran...  \n",
       "4  A shared Computer that was used for backup was...  "
      ]
     },
     "execution_count": 4,
     "metadata": {},
     "output_type": "execute_result"
    }
   ],
   "source": [
    "tab = pd.read_csv('./breach_report.csv', low_memory=False, delimiter= ',', encoding = 'ISO-8859-1', decimal = '.')\n",
    "tab.head()"
   ]
  },
  {
   "cell_type": "code",
   "execution_count": 5,
   "metadata": {},
   "outputs": [
    {
     "data": {
      "text/plain": [
       "Index(['Name of Covered Entity', 'State', 'Covered Entity Type',\n",
       "       'Individuals Affected', 'Breach Submission Date', 'Type of Breach',\n",
       "       'Location of Breached Information', 'Business Associate Present',\n",
       "       'Web Description'],\n",
       "      dtype='object')"
      ]
     },
     "execution_count": 5,
     "metadata": {},
     "output_type": "execute_result"
    }
   ],
   "source": [
    "tab.columns"
   ]
  },
  {
   "cell_type": "code",
   "execution_count": 6,
   "metadata": {},
   "outputs": [
    {
     "data": {
      "text/plain": [
       "0                              Brooke Army Medical Center\n",
       "1               Mid America Kidney Stone Association, LLC\n",
       "2         Alaska Department of Health and Social Services\n",
       "3       Health Services for Children with Special Need...\n",
       "4                                       Mark D. Lurie, MD\n",
       "5                                L. Douglas Carlson, M.D.\n",
       "6                                      David I. Cohen, MD\n",
       "7                                 Michele Del Vicario, MD\n",
       "8                                     Joseph F. Lopez, MD\n",
       "9                    City of Hope National Medical Center\n",
       "10                The Children's Hospital of Philadelphia\n",
       "11                                Cogent Healthcare, Inc.\n",
       "12                 Democracy Data & Communications, LLC (\n",
       "13                                    Kern Medical Center\n",
       "14            Rick Lawson, Professional Computer Services\n",
       "15      Detroit Department of Health and Wellness Prom...\n",
       "16      Detroit Department of Health and Wellness Prom...\n",
       "17                University of California, San Francisco\n",
       "18                                 Daniel J. Sigman MD PC\n",
       "19      Service Benefits Plan Administrative Services ...\n",
       "20                    Massachusetts Eye and Ear Infirmary\n",
       "21                                Merkle Direct Marketing\n",
       "22                 Kaiser Permanente Medical Care Program\n",
       "23                                      United Micro Data\n",
       "24      Goodwill Industries of Greater Grand Rapids, Inc.\n",
       "25                    Children's Medical Center of Dallas\n",
       "26                                    Ashley and Gray DDS\n",
       "27                                              Concentra\n",
       "28                                   Advocate Health Care\n",
       "29                                 The Methodist Hospital\n",
       "                              ...                        \n",
       "1670                                Pratap S. Kurra, M.D.\n",
       "1671                    King of Prussia Dental Associates\n",
       "1672                       Heritage Medical Partners, LLC\n",
       "1673    CHI Franciscan Health St. Clare Hospital and S...\n",
       "1674                                            KidsPeace\n",
       "1675                    Ventura County Health Care Agency\n",
       "1676         McLaren Greater Lansing Cardiovascular Group\n",
       "1677                        USC Keck and Norris Hospitals\n",
       "1678                              New Jersey Spine Center\n",
       "1679                         Jennie Stuart Medical Center\n",
       "1680                                    Hal Meadows, M.D.\n",
       "1681                     Central Ohio Urology Group, Inc.\n",
       "1682                                         Group Health\n",
       "1683                            Prima Medical Foundation \n",
       "1684                            Marin Healthcare District\n",
       "1685                               Thomasville Eye Center\n",
       "1686                         San Juan Oncology Associates\n",
       "1687             Fred's Stores of Tennessee, Incorporated\n",
       "1688                         Urgent Care Clinic of Oxford\n",
       "1689    University of Wisconsin Hospitals and Clinics ...\n",
       "1690                            Rainbow Children's Clinic\n",
       "1691                                Francisco Jaume, D.O.\n",
       "1692                                     Apria Healthcare\n",
       "1693    Baxter Regional Medical Center - Home Health F...\n",
       "1694                       Genesis Physical Therapy, Inc.\n",
       "1695                       Northwest Community Healthcare\n",
       "1696                                        Warren Clinic\n",
       "1697                                    Baxter Healthcare\n",
       "1698                         Peabody Retirement Community\n",
       "1699                        Gibson Insurance Agency, Inc.\n",
       "Name: Name of Covered Entity, Length: 1700, dtype: object"
      ]
     },
     "execution_count": 6,
     "metadata": {},
     "output_type": "execute_result"
    }
   ],
   "source": [
    "tab['Name of Covered Entity']"
   ]
  },
  {
   "cell_type": "code",
   "execution_count": 7,
   "metadata": {},
   "outputs": [
    {
     "data": {
      "text/plain": [
       "(1700, 9)"
      ]
     },
     "execution_count": 7,
     "metadata": {},
     "output_type": "execute_result"
    }
   ],
   "source": [
    "tab.shape"
   ]
  },
  {
   "cell_type": "code",
   "execution_count": 8,
   "metadata": {},
   "outputs": [
    {
     "data": {
      "text/html": [
       "<div>\n",
       "<style scoped>\n",
       "    .dataframe tbody tr th:only-of-type {\n",
       "        vertical-align: middle;\n",
       "    }\n",
       "\n",
       "    .dataframe tbody tr th {\n",
       "        vertical-align: top;\n",
       "    }\n",
       "\n",
       "    .dataframe thead th {\n",
       "        text-align: right;\n",
       "    }\n",
       "</style>\n",
       "<table border=\"1\" class=\"dataframe\">\n",
       "  <thead>\n",
       "    <tr style=\"text-align: right;\">\n",
       "      <th></th>\n",
       "      <th>Individuals Affected</th>\n",
       "    </tr>\n",
       "  </thead>\n",
       "  <tbody>\n",
       "    <tr>\n",
       "      <th>count</th>\n",
       "      <td>1.677000e+03</td>\n",
       "    </tr>\n",
       "    <tr>\n",
       "      <th>mean</th>\n",
       "      <td>1.007082e+05</td>\n",
       "    </tr>\n",
       "    <tr>\n",
       "      <th>std</th>\n",
       "      <td>1.979060e+06</td>\n",
       "    </tr>\n",
       "    <tr>\n",
       "      <th>min</th>\n",
       "      <td>5.000000e+02</td>\n",
       "    </tr>\n",
       "    <tr>\n",
       "      <th>25%</th>\n",
       "      <td>1.000000e+03</td>\n",
       "    </tr>\n",
       "    <tr>\n",
       "      <th>50%</th>\n",
       "      <td>2.300000e+03</td>\n",
       "    </tr>\n",
       "    <tr>\n",
       "      <th>75%</th>\n",
       "      <td>7.526000e+03</td>\n",
       "    </tr>\n",
       "    <tr>\n",
       "      <th>max</th>\n",
       "      <td>7.880000e+07</td>\n",
       "    </tr>\n",
       "  </tbody>\n",
       "</table>\n",
       "</div>"
      ],
      "text/plain": [
       "       Individuals Affected\n",
       "count          1.677000e+03\n",
       "mean           1.007082e+05\n",
       "std            1.979060e+06\n",
       "min            5.000000e+02\n",
       "25%            1.000000e+03\n",
       "50%            2.300000e+03\n",
       "75%            7.526000e+03\n",
       "max            7.880000e+07"
      ]
     },
     "execution_count": 8,
     "metadata": {},
     "output_type": "execute_result"
    }
   ],
   "source": [
    "tab.describe()"
   ]
  },
  {
   "cell_type": "code",
   "execution_count": 9,
   "metadata": {},
   "outputs": [
    {
     "name": "stdout",
     "output_type": "stream",
     "text": [
      "<class 'pandas.core.frame.DataFrame'>\n",
      "RangeIndex: 1700 entries, 0 to 1699\n",
      "Data columns (total 9 columns):\n",
      "Name of Covered Entity              1700 non-null object\n",
      "State                               1689 non-null object\n",
      "Covered Entity Type                 1658 non-null object\n",
      "Individuals Affected                1677 non-null float64\n",
      "Breach Submission Date              1700 non-null object\n",
      "Type of Breach                      1686 non-null object\n",
      "Location of Breached Information    1689 non-null object\n",
      "Business Associate Present          1700 non-null object\n",
      "Web Description                     1302 non-null object\n",
      "dtypes: float64(1), object(8)\n",
      "memory usage: 66.4+ KB\n"
     ]
    }
   ],
   "source": [
    "tab.info()"
   ]
  },
  {
   "cell_type": "code",
   "execution_count": 14,
   "metadata": {},
   "outputs": [
    {
     "data": {
      "text/plain": [
       "<matplotlib.axes._subplots.AxesSubplot at 0x10712b50>"
      ]
     },
     "execution_count": 14,
     "metadata": {},
     "output_type": "execute_result"
    },
    {
     "data": {
      "image/png": "[encoded data removed]",
      "text/plain": [
       "<matplotlib.figure.Figure at 0xe844dd0>"
      ]
     },
     "metadata": {},
     "output_type": "display_data"
    }
   ],
   "source": [
    "tab.groupby('State').size().sort_values().tail(10).plot(kind='barh', figsize=(10,10))"
   ]
  },
  {
   "cell_type": "code",
   "execution_count": 11,
   "metadata": {},
   "outputs": [
    {
     "data": {
      "text/plain": [
       "<matplotlib.axes._subplots.AxesSubplot at 0x3b3acb0>"
      ]
     },
     "execution_count": 11,
     "metadata": {},
     "output_type": "execute_result"
    },
    {
     "data": {
      "image/png": "[encoded data removed]",
      "text/plain": [
       "<matplotlib.figure.Figure at 0xe7b1e30>"
      ]
     },
     "metadata": {},
     "output_type": "display_data"
    }
   ],
   "source": [
    "tab.groupby('Type of Breach').size().tail(4).sort_values().plot(kind='barh', figsize=(8, 8))"
   ]
  },
  {
   "cell_type": "code",
   "execution_count": 17,
   "metadata": {},
   "outputs": [
    {
     "data": {
      "text/plain": [
       "<matplotlib.axes._subplots.AxesSubplot at 0x11964af0>"
      ]
     },
     "execution_count": 17,
     "metadata": {},
     "output_type": "execute_result"
    },
    {
     "data": {
      "image/png": "[encoded data removed]",
      "text/plain": [
       "<matplotlib.figure.Figure at 0x10755b70>"
      ]
     },
     "metadata": {},
     "output_type": "display_data"
    }
   ],
   "source": [
    "tab.groupby('Location of Breached Information').size().tail(4).sort_values().plot(kind='barh', figsize=(10,10))"
   ]
  },
  {
   "cell_type": "code",
   "execution_count": 16,
   "metadata": {},
   "outputs": [
    {
     "data": {
      "text/plain": [
       "<matplotlib.axes._subplots.AxesSubplot at 0x107687d0>"
      ]
     },
     "execution_count": 16,
     "metadata": {},
     "output_type": "execute_result"
    },
    {
     "data": {
      "image/png": "[encoded data removed]",
      "text/plain": [
       "<matplotlib.figure.Figure at 0x107e38d0>"
      ]
     },
     "metadata": {},
     "output_type": "display_data"
    }
   ],
   "source": [
    "tab.groupby('Covered Entity Type').size().sort_values().plot(kind='barh', figsize=(10,10))"
   ]
  }
 ],
 "metadata": {
  "kernelspec": {
   "display_name": "Python 3",
   "language": "python",
   "name": "python3"
  },
  "language_info": {
   "codemirror_mode": {
    "name": "ipython",
    "version": 3
   },
   "file_extension": ".py",
   "mimetype": "text/x-python",
   "name": "python",
   "nbconvert_exporter": "python",
   "pygments_lexer": "ipython3",
   "version": "3.6.4"
  }
 },
 "nbformat": 4,
 "nbformat_minor": 2
}
