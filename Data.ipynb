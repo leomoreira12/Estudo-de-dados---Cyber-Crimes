{
 "cells": [
  {
   "cell_type": "code",
   "execution_count": 1,
   "metadata": {},
   "outputs": [],
   "source": [
    "import pandas as pd\n",
    "import seaborn as sb\n",
    "low_memory=False\n",
    "%matplotlib inline\n",
    "pd.options.display.max_columns = 80\n",
    "pd.options.display.max_rows = 90"
   ]
  },
  {
   "cell_type": "code",
   "execution_count": 3,
   "metadata": {},
   "outputs": [
    {
     "data": {
      "text/html": [
       "<div>\n",
       "<style scoped>\n",
       "    .dataframe tbody tr th:only-of-type {\n",
       "        vertical-align: middle;\n",
       "    }\n",
       "\n",
       "    .dataframe tbody tr th {\n",
       "        vertical-align: top;\n",
       "    }\n",
       "\n",
       "    .dataframe thead th {\n",
       "        text-align: right;\n",
       "    }\n",
       "</style>\n",
       "<table border=\"1\" class=\"dataframe\">\n",
       "  <thead>\n",
       "    <tr style=\"text-align: right;\">\n",
       "      <th></th>\n",
       "      <th>Name of Covered Entity</th>\n",
       "      <th>State</th>\n",
       "      <th>Covered Entity Type</th>\n",
       "      <th>Individuals Affected</th>\n",
       "      <th>Breach Submission Date</th>\n",
       "      <th>Type of Breach</th>\n",
       "      <th>Location of Breached Information</th>\n",
       "      <th>Business Associate Present</th>\n",
       "      <th>Web Description</th>\n",
       "    </tr>\n",
       "  </thead>\n",
       "  <tbody>\n",
       "    <tr>\n",
       "      <th>0</th>\n",
       "      <td>Brooke Army Medical Center</td>\n",
       "      <td>TX</td>\n",
       "      <td>Healthcare Provider</td>\n",
       "      <td>1000.0</td>\n",
       "      <td>10/21/09</td>\n",
       "      <td>Theft</td>\n",
       "      <td>Paper/Films</td>\n",
       "      <td>No</td>\n",
       "      <td>A binder containing the protected health infor...</td>\n",
       "    </tr>\n",
       "    <tr>\n",
       "      <th>1</th>\n",
       "      <td>Mid America Kidney Stone Association, LLC</td>\n",
       "      <td>MO</td>\n",
       "      <td>Healthcare Provider</td>\n",
       "      <td>1000.0</td>\n",
       "      <td>10/28/09</td>\n",
       "      <td>Theft</td>\n",
       "      <td>Network Server</td>\n",
       "      <td>No</td>\n",
       "      <td>Five desktop computers containing unencrypted ...</td>\n",
       "    </tr>\n",
       "    <tr>\n",
       "      <th>2</th>\n",
       "      <td>Alaska Department of Health and Social Services</td>\n",
       "      <td>AK</td>\n",
       "      <td>Healthcare Provider</td>\n",
       "      <td>501.0</td>\n",
       "      <td>10/30/09</td>\n",
       "      <td>Theft</td>\n",
       "      <td>Other, Other Portable Electronic Device</td>\n",
       "      <td>No</td>\n",
       "      <td>\\N</td>\n",
       "    </tr>\n",
       "    <tr>\n",
       "      <th>3</th>\n",
       "      <td>Health Services for Children with Special Need...</td>\n",
       "      <td>DC</td>\n",
       "      <td>Health Plan</td>\n",
       "      <td>3800.0</td>\n",
       "      <td>11/17/09</td>\n",
       "      <td>Loss</td>\n",
       "      <td>Laptop</td>\n",
       "      <td>No</td>\n",
       "      <td>A laptop was lost by an employee while in tran...</td>\n",
       "    </tr>\n",
       "    <tr>\n",
       "      <th>4</th>\n",
       "      <td>Mark D. Lurie, MD</td>\n",
       "      <td>CA</td>\n",
       "      <td>Healthcare Provider</td>\n",
       "      <td>5166.0</td>\n",
       "      <td>11/20/09</td>\n",
       "      <td>Theft</td>\n",
       "      <td>Desktop Computer</td>\n",
       "      <td>No</td>\n",
       "      <td>A shared Computer that was used for backup was...</td>\n",
       "    </tr>\n",
       "  </tbody>\n",
       "</table>\n",
       "</div>"
      ],
      "text/plain": [
       "                              Name of Covered Entity State  \\\n",
       "0                         Brooke Army Medical Center    TX   \n",
       "1          Mid America Kidney Stone Association, LLC    MO   \n",
       "2    Alaska Department of Health and Social Services    AK   \n",
       "3  Health Services for Children with Special Need...    DC   \n",
       "4                                  Mark D. Lurie, MD    CA   \n",
       "\n",
       "   Covered Entity Type  Individuals Affected Breach Submission Date  \\\n",
       "0  Healthcare Provider                1000.0               10/21/09   \n",
       "1  Healthcare Provider                1000.0               10/28/09   \n",
       "2  Healthcare Provider                 501.0               10/30/09   \n",
       "3          Health Plan                3800.0               11/17/09   \n",
       "4  Healthcare Provider                5166.0               11/20/09   \n",
       "\n",
       "  Type of Breach         Location of Breached Information  \\\n",
       "0          Theft                              Paper/Films   \n",
       "1          Theft                           Network Server   \n",
       "2          Theft  Other, Other Portable Electronic Device   \n",
       "3           Loss                                   Laptop   \n",
       "4          Theft                         Desktop Computer   \n",
       "\n",
       "  Business Associate Present  \\\n",
       "0                         No   \n",
       "1                         No   \n",
       "2                         No   \n",
       "3                         No   \n",
       "4                         No   \n",
       "\n",
       "                                     Web Description  \n",
       "0  A binder containing the protected health infor...  \n",
       "1  Five desktop computers containing unencrypted ...  \n",
       "2                                                 \\N  \n",
       "3  A laptop was lost by an employee while in tran...  \n",
       "4  A shared Computer that was used for backup was...  "
      ]
     },
     "execution_count": 3,
     "metadata": {},
     "output_type": "execute_result"
    }
   ],
   "source": [
    "tab = pd.read_csv('./breach_report.csv', low_memory=False, delimiter= ',', encoding = 'ISO-8859-1', decimal = '.')\n",
    "tab.head()"
   ]
  },
  {
   "cell_type": "code",
   "execution_count": 4,
   "metadata": {},
   "outputs": [
    {
     "data": {
      "text/plain": [
       "Index(['Name of Covered Entity', 'State', 'Covered Entity Type',\n",
       "       'Individuals Affected', 'Breach Submission Date', 'Type of Breach',\n",
       "       'Location of Breached Information', 'Business Associate Present',\n",
       "       'Web Description'],\n",
       "      dtype='object')"
      ]
     },
     "execution_count": 4,
     "metadata": {},
     "output_type": "execute_result"
    }
   ],
   "source": [
    "tab.columns"
   ]
  },
  {
   "cell_type": "code",
   "execution_count": 5,
   "metadata": {},
   "outputs": [
    {
     "data": {
      "text/plain": [
       "0         1000.0\n",
       "1         1000.0\n",
       "2          501.0\n",
       "3         3800.0\n",
       "4         5166.0\n",
       "5         5257.0\n",
       "6          857.0\n",
       "7         6145.0\n",
       "8          952.0\n",
       "9         5900.0\n",
       "10         943.0\n",
       "11        6400.0\n",
       "12       83000.0\n",
       "13         596.0\n",
       "14        2000.0\n",
       "15         646.0\n",
       "16       10000.0\n",
       "17         610.0\n",
       "18        1860.0\n",
       "19        3400.0\n",
       "20        1076.0\n",
       "21       15000.0\n",
       "22       15500.0\n",
       "23        2562.0\n",
       "24       10000.0\n",
       "25        3800.0\n",
       "26        9309.0\n",
       "27         900.0\n",
       "28         812.0\n",
       "29         689.0\n",
       "30        7300.0\n",
       "31        1300.0\n",
       "32        5700.0\n",
       "33        1100.0\n",
       "34         528.0\n",
       "35         605.0\n",
       "36        1907.0\n",
       "37        8000.0\n",
       "38        3900.0\n",
       "39         532.0\n",
       "40        1900.0\n",
       "41        3500.0\n",
       "42         500.0\n",
       "43       12580.0\n",
       "44        9023.0\n",
       "          ...   \n",
       "1655       824.0\n",
       "1656       625.0\n",
       "1657     18399.0\n",
       "1658     25000.0\n",
       "1659      7748.0\n",
       "1660      3179.0\n",
       "1661      2814.0\n",
       "1662       707.0\n",
       "1663     15478.0\n",
       "1664       860.0\n",
       "1665      1349.0\n",
       "1666      1000.0\n",
       "1667      2400.0\n",
       "1668      1400.0\n",
       "1669      3840.0\n",
       "1670      2029.0\n",
       "1671     16228.0\n",
       "1672       812.0\n",
       "1673      2818.0\n",
       "1674      1456.0\n",
       "1675       777.0\n",
       "1676      1000.0\n",
       "1677     16000.0\n",
       "1678     28000.0\n",
       "1679      1500.0\n",
       "1680      6000.0\n",
       "1681    300000.0\n",
       "1682       668.0\n",
       "1683      2933.0\n",
       "1684      2292.0\n",
       "1685     10891.0\n",
       "1686       500.0\n",
       "1687      9624.0\n",
       "1688     64000.0\n",
       "1689      6923.0\n",
       "1690     33698.0\n",
       "1691     14236.0\n",
       "1692      1987.0\n",
       "1693      2124.0\n",
       "1694      2245.0\n",
       "1695       540.0\n",
       "1696      2938.0\n",
       "1697       992.0\n",
       "1698      1466.0\n",
       "1699      7242.0\n",
       "Name: Individuals Affected, Length: 1700, dtype: float64"
      ]
     },
     "execution_count": 5,
     "metadata": {},
     "output_type": "execute_result"
    }
   ],
   "source": [
    "tab['Individuals Affected']"
   ]
  },
  {
   "cell_type": "code",
   "execution_count": 8,
   "metadata": {},
   "outputs": [
    {
     "data": {
      "text/plain": [
       "(1700, 9)"
      ]
     },
     "execution_count": 8,
     "metadata": {},
     "output_type": "execute_result"
    }
   ],
   "source": [
    "tab.shape"
   ]
  },
  {
   "cell_type": "code",
   "execution_count": 10,
   "metadata": {},
   "outputs": [
    {
     "data": {
      "text/html": [
       "<div>\n",
       "<style scoped>\n",
       "    .dataframe tbody tr th:only-of-type {\n",
       "        vertical-align: middle;\n",
       "    }\n",
       "\n",
       "    .dataframe tbody tr th {\n",
       "        vertical-align: top;\n",
       "    }\n",
       "\n",
       "    .dataframe thead th {\n",
       "        text-align: right;\n",
       "    }\n",
       "</style>\n",
       "<table border=\"1\" class=\"dataframe\">\n",
       "  <thead>\n",
       "    <tr style=\"text-align: right;\">\n",
       "      <th></th>\n",
       "      <th>Individuals Affected</th>\n",
       "    </tr>\n",
       "  </thead>\n",
       "  <tbody>\n",
       "    <tr>\n",
       "      <th>count</th>\n",
       "      <td>1.677000e+03</td>\n",
       "    </tr>\n",
       "    <tr>\n",
       "      <th>mean</th>\n",
       "      <td>1.007082e+05</td>\n",
       "    </tr>\n",
       "    <tr>\n",
       "      <th>std</th>\n",
       "      <td>1.979060e+06</td>\n",
       "    </tr>\n",
       "    <tr>\n",
       "      <th>min</th>\n",
       "      <td>5.000000e+02</td>\n",
       "    </tr>\n",
       "    <tr>\n",
       "      <th>25%</th>\n",
       "      <td>1.000000e+03</td>\n",
       "    </tr>\n",
       "    <tr>\n",
       "      <th>50%</th>\n",
       "      <td>2.300000e+03</td>\n",
       "    </tr>\n",
       "    <tr>\n",
       "      <th>75%</th>\n",
       "      <td>7.526000e+03</td>\n",
       "    </tr>\n",
       "    <tr>\n",
       "      <th>max</th>\n",
       "      <td>7.880000e+07</td>\n",
       "    </tr>\n",
       "  </tbody>\n",
       "</table>\n",
       "</div>"
      ],
      "text/plain": [
       "       Individuals Affected\n",
       "count          1.677000e+03\n",
       "mean           1.007082e+05\n",
       "std            1.979060e+06\n",
       "min            5.000000e+02\n",
       "25%            1.000000e+03\n",
       "50%            2.300000e+03\n",
       "75%            7.526000e+03\n",
       "max            7.880000e+07"
      ]
     },
     "execution_count": 10,
     "metadata": {},
     "output_type": "execute_result"
    }
   ],
   "source": [
    "tab.describe()"
   ]
  },
  {
   "cell_type": "code",
   "execution_count": 12,
   "metadata": {},
   "outputs": [
    {
     "name": "stdout",
     "output_type": "stream",
     "text": [
      "<class 'pandas.core.frame.DataFrame'>\n",
      "RangeIndex: 1700 entries, 0 to 1699\n",
      "Data columns (total 9 columns):\n",
      "Name of Covered Entity              1700 non-null object\n",
      "State                               1689 non-null object\n",
      "Covered Entity Type                 1658 non-null object\n",
      "Individuals Affected                1677 non-null float64\n",
      "Breach Submission Date              1700 non-null object\n",
      "Type of Breach                      1686 non-null object\n",
      "Location of Breached Information    1689 non-null object\n",
      "Business Associate Present          1700 non-null object\n",
      "Web Description                     1302 non-null object\n",
      "dtypes: float64(1), object(8)\n",
      "memory usage: 66.4+ KB\n"
     ]
    }
   ],
   "source": [
    "tab.info()"
   ]
  },
  {
   "cell_type": "code",
   "execution_count": 18,
   "metadata": {},
   "outputs": [
    {
     "data": {
      "text/plain": [
       "<matplotlib.axes._subplots.AxesSubplot at 0xa7bd30>"
      ]
     },
     "execution_count": 18,
     "metadata": {},
     "output_type": "execute_result"
    },
    {
     "data": {
      "image/png": "[encoded data removed]",
      "text/plain": [
       "<matplotlib.figure.Figure at 0x9d9ed0>"
      ]
     },
     "metadata": {},
     "output_type": "display_data"
    }
   ],
   "source": [
    "tab.groupby('State').size().sort_values().plot(kind='barh', figsize=(15,20))"
   ]
  },
  {
   "cell_type": "code",
   "execution_count": null,
   "metadata": {},
   "outputs": [],
   "source": []
  }
 ],
 "metadata": {
  "kernelspec": {
   "display_name": "Python 3",
   "language": "python",
   "name": "python3"
  },
  "language_info": {
   "codemirror_mode": {
    "name": "ipython",
    "version": 3
   },
   "file_extension": ".py",
   "mimetype": "text/x-python",
   "name": "python",
   "nbconvert_exporter": "python",
   "pygments_lexer": "ipython3",
   "version": "3.6.4"
  }
 },
 "nbformat": 4,
 "nbformat_minor": 2
}
